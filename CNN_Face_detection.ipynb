{
 "cells": [
  {
   "cell_type": "code",
   "execution_count": 1,
   "metadata": {},
   "outputs": [],
   "source": [
    "from tensorflow.keras.preprocessing.image import ImageDataGenerator\n",
    "from tensorflow.keras.optimizers import Adam\n",
    "from tensorflow.keras.preprocessing.image import img_to_array\n",
    "from tensorflow.keras.utils import to_categorical, plot_model\n",
    "from tensorflow.keras.models import Sequential\n",
    "from tensorflow.keras.layers import BatchNormalization, Conv2D, MaxPooling2D, Activation, Flatten, Dropout, Dense\n",
    "from tensorflow.keras import backend as K\n",
    "from sklearn.model_selection import train_test_split\n",
    "import matplotlib.pyplot as plt\n",
    "import numpy as np\n",
    "import random\n",
    "import cv2\n",
    "import os\n",
    "import glob"
   ]
  },
  {
   "cell_type": "code",
   "execution_count": 2,
   "metadata": {},
   "outputs": [
    {
     "name": "stdout",
     "output_type": "stream",
     "text": [
      "{'with mask': 0, 'without mask': 1}\n",
      "['with mask', 'without mask']\n",
      "[0, 1]\n"
     ]
    }
   ],
   "source": [
    "data_path='dataset'\n",
    "categories=os.listdir(data_path)\n",
    "labels=[i for i in range(len(categories))]\n",
    "\n",
    "label_dict=dict(zip(categories,labels)) #empty dictionary\n",
    "\n",
    "print(label_dict)\n",
    "print(categories)\n",
    "print(labels)"
   ]
  },
  {
   "cell_type": "code",
   "execution_count": 3,
   "metadata": {},
   "outputs": [],
   "source": [
    "img_size=100\n",
    "data=[]\n",
    "target=[]\n",
    "\n",
    "\n",
    "for category in categories:\n",
    "    folder_path=os.path.join(data_path,category)\n",
    "    img_names=os.listdir(folder_path)\n",
    "        \n",
    "    for img_name in img_names:\n",
    "        img_path=os.path.join(folder_path,img_name)\n",
    "        img=cv2.imread(img_path)\n",
    "\n",
    "        try:\n",
    "            #gray=cv2.cvtColor(img,cv2.COLOR_BGR2GRAY)           \n",
    "            #Coverting the image into gray scale\n",
    "            resized=cv2.resize(img,(img_size,img_size))\n",
    "            #resizing the gray scale into 50x50, since we need a fixed common size for all the images in the dataset\n",
    "            data.append(resized)\n",
    "            target.append(label_dict[category])\n",
    "            #appending the image and the label(categorized) into the list (dataset)\n",
    "\n",
    "        except Exception as e:\n",
    "            print('Exception:',e)\n",
    "            #if any exception rasied, the exception will be printed here. And pass to the next image"
   ]
  },
  {
   "cell_type": "code",
   "execution_count": 4,
   "metadata": {},
   "outputs": [
    {
     "data": {
      "text/plain": [
       "(100, 100, 3)"
      ]
     },
     "execution_count": 4,
     "metadata": {},
     "output_type": "execute_result"
    }
   ],
   "source": [
    "data[0].shape"
   ]
  },
  {
   "cell_type": "code",
   "execution_count": 5,
   "metadata": {},
   "outputs": [],
   "source": [
    "data=np.array(data)/255.0"
   ]
  },
  {
   "cell_type": "code",
   "execution_count": 6,
   "metadata": {},
   "outputs": [
    {
     "data": {
      "text/plain": [
       "(1376, 100, 100, 3)"
      ]
     },
     "execution_count": 6,
     "metadata": {},
     "output_type": "execute_result"
    }
   ],
   "source": [
    "data.shape"
   ]
  },
  {
   "cell_type": "code",
   "execution_count": 7,
   "metadata": {},
   "outputs": [
    {
     "name": "stderr",
     "output_type": "stream",
     "text": [
      "Using TensorFlow backend.\n"
     ]
    }
   ],
   "source": [
    "#data=np.reshape(data,(data.shape[0],img_size,img_size,1))\n",
    "target=np.array(target)\n",
    "\n",
    "from keras.utils import np_utils\n",
    "\n",
    "new_target=np_utils.to_categorical(target)"
   ]
  },
  {
   "cell_type": "code",
   "execution_count": 8,
   "metadata": {},
   "outputs": [
    {
     "data": {
      "text/plain": [
       "array([[1., 0.],\n",
       "       [1., 0.],\n",
       "       [1., 0.],\n",
       "       ...,\n",
       "       [0., 1.],\n",
       "       [0., 1.],\n",
       "       [0., 1.]], dtype=float32)"
      ]
     },
     "execution_count": 8,
     "metadata": {},
     "output_type": "execute_result"
    }
   ],
   "source": [
    "new_target"
   ]
  },
  {
   "cell_type": "code",
   "execution_count": 9,
   "metadata": {},
   "outputs": [
    {
     "data": {
      "text/plain": [
       "array([0, 0, 0, ..., 1, 1, 1])"
      ]
     },
     "execution_count": 9,
     "metadata": {},
     "output_type": "execute_result"
    }
   ],
   "source": [
    "target"
   ]
  },
  {
   "cell_type": "code",
   "execution_count": 10,
   "metadata": {},
   "outputs": [],
   "source": [
    "model=Sequential()\n",
    "model.add(Conv2D(200,(3,3), activation='relu', input_shape=data.shape[1:]))\n",
    "model.add(MaxPooling2D(pool_size=(2, 2)))\n",
    "#First CNN Layer\n",
    "\n",
    "model.add(Conv2D(100,(3,3), activation='relu'))\n",
    "model.add(MaxPooling2D(pool_size=(2, 2)))\n",
    "model.add(Dropout(0.4))\n",
    "#Second CNN Layer\n",
    "\n",
    "model.add(Flatten())\n",
    "model.add(Dropout(0.5))\n",
    "#Flatten layer to stack the output convolutions from second convolution layer\n",
    "model.add(Dense(50,activation='relu'))\n",
    "#Dense layer of 64 neurons\n",
    "model.add(Dense(2,activation='sigmoid'))\n",
    "#The Final layer with two outputs for two categories\n",
    "\n",
    "model.compile(loss='binary_crossentropy',optimizer='adam',metrics=['accuracy'])"
   ]
  },
  {
   "cell_type": "code",
   "execution_count": 11,
   "metadata": {},
   "outputs": [],
   "source": [
    "from sklearn.model_selection import train_test_split\n",
    "\n",
    "train_data,test_data,train_target,test_target=train_test_split(data,new_target,test_size=0.1)"
   ]
  },
  {
   "cell_type": "code",
   "execution_count": 12,
   "metadata": {},
   "outputs": [
    {
     "name": "stdout",
     "output_type": "stream",
     "text": [
      "Epoch 1/30\n",
      "31/31 [==============================] - 103s 3s/step - loss: 0.5724 - accuracy: 0.7394 - val_loss: 0.2073 - val_accuracy: 0.9234\n",
      "Epoch 2/30\n",
      "31/31 [==============================] - 123s 4s/step - loss: 0.1766 - accuracy: 0.9394 - val_loss: 0.0986 - val_accuracy: 0.9637\n",
      "Epoch 3/30\n",
      "31/31 [==============================] - 124s 4s/step - loss: 0.0959 - accuracy: 0.9697 - val_loss: 0.0821 - val_accuracy: 0.9718\n",
      "Epoch 4/30\n",
      "31/31 [==============================] - 117s 4s/step - loss: 0.0863 - accuracy: 0.9687 - val_loss: 0.0729 - val_accuracy: 0.9798\n",
      "Epoch 5/30\n",
      "31/31 [==============================] - 193s 6s/step - loss: 0.0769 - accuracy: 0.9737 - val_loss: 0.0752 - val_accuracy: 0.9839\n",
      "Epoch 6/30\n",
      "31/31 [==============================] - 174s 6s/step - loss: 0.0555 - accuracy: 0.9798 - val_loss: 0.0793 - val_accuracy: 0.9839\n",
      "Epoch 7/30\n",
      "31/31 [==============================] - 171s 6s/step - loss: 0.0387 - accuracy: 0.9889 - val_loss: 0.0989 - val_accuracy: 0.9798\n",
      "Epoch 8/30\n",
      "31/31 [==============================] - 169s 5s/step - loss: 0.0365 - accuracy: 0.9909 - val_loss: 0.0738 - val_accuracy: 0.9839\n",
      "Epoch 9/30\n",
      "31/31 [==============================] - 186s 6s/step - loss: 0.0480 - accuracy: 0.9848 - val_loss: 0.0779 - val_accuracy: 0.9839\n",
      "Epoch 10/30\n",
      "31/31 [==============================] - 185s 6s/step - loss: 0.1039 - accuracy: 0.9646 - val_loss: 0.1849 - val_accuracy: 0.9556\n",
      "Epoch 11/30\n",
      "31/31 [==============================] - 185s 6s/step - loss: 0.0468 - accuracy: 0.9879 - val_loss: 0.1045 - val_accuracy: 0.9839\n",
      "Epoch 12/30\n",
      "31/31 [==============================] - 187s 6s/step - loss: 0.0619 - accuracy: 0.9808 - val_loss: 0.0834 - val_accuracy: 0.9879\n",
      "Epoch 13/30\n",
      "31/31 [==============================] - 198s 6s/step - loss: 0.0347 - accuracy: 0.9929 - val_loss: 0.0807 - val_accuracy: 0.9879\n",
      "Epoch 14/30\n",
      "31/31 [==============================] - 159s 5s/step - loss: 0.0149 - accuracy: 0.9960 - val_loss: 0.1311 - val_accuracy: 0.9879\n",
      "Epoch 15/30\n",
      "31/31 [==============================] - 159s 5s/step - loss: 0.0256 - accuracy: 0.9939 - val_loss: 0.1025 - val_accuracy: 0.9839\n",
      "Epoch 16/30\n",
      "31/31 [==============================] - 155s 5s/step - loss: 0.0260 - accuracy: 0.9899 - val_loss: 0.0926 - val_accuracy: 0.9839\n",
      "Epoch 17/30\n",
      "31/31 [==============================] - 160s 5s/step - loss: 0.0381 - accuracy: 0.9879 - val_loss: 0.1087 - val_accuracy: 0.9839\n",
      "Epoch 18/30\n",
      "31/31 [==============================] - 163s 5s/step - loss: 0.0215 - accuracy: 0.9939 - val_loss: 0.0617 - val_accuracy: 0.9879\n",
      "Epoch 19/30\n",
      "31/31 [==============================] - 164s 5s/step - loss: 0.0116 - accuracy: 0.9949 - val_loss: 0.1289 - val_accuracy: 0.9839\n",
      "Epoch 20/30\n",
      "31/31 [==============================] - 161s 5s/step - loss: 0.0384 - accuracy: 0.9848 - val_loss: 0.0930 - val_accuracy: 0.9879\n",
      "Epoch 21/30\n",
      "31/31 [==============================] - 161s 5s/step - loss: 0.0133 - accuracy: 0.9949 - val_loss: 0.0887 - val_accuracy: 0.9879\n",
      "Epoch 22/30\n",
      "31/31 [==============================] - 149s 5s/step - loss: 0.0122 - accuracy: 0.9970 - val_loss: 0.0901 - val_accuracy: 0.9879\n",
      "Epoch 23/30\n",
      "31/31 [==============================] - 152s 5s/step - loss: 0.0208 - accuracy: 0.9949 - val_loss: 0.0836 - val_accuracy: 0.9839\n",
      "Epoch 24/30\n",
      "31/31 [==============================] - 148s 5s/step - loss: 0.0509 - accuracy: 0.9818 - val_loss: 0.0828 - val_accuracy: 0.9839\n",
      "Epoch 25/30\n",
      "31/31 [==============================] - 148s 5s/step - loss: 0.0184 - accuracy: 0.9960 - val_loss: 0.1125 - val_accuracy: 0.9879\n",
      "Epoch 26/30\n",
      "31/31 [==============================] - 144s 5s/step - loss: 0.0134 - accuracy: 0.9960 - val_loss: 0.0975 - val_accuracy: 0.9798\n",
      "Epoch 27/30\n",
      "31/31 [==============================] - 143s 5s/step - loss: 0.0227 - accuracy: 0.9909 - val_loss: 0.0709 - val_accuracy: 0.9839\n",
      "Epoch 28/30\n",
      "31/31 [==============================] - 145s 5s/step - loss: 0.0201 - accuracy: 0.9939 - val_loss: 0.1450 - val_accuracy: 0.9798\n",
      "Epoch 29/30\n",
      "31/31 [==============================] - 154s 5s/step - loss: 0.0164 - accuracy: 0.9939 - val_loss: 0.1193 - val_accuracy: 0.9839\n",
      "Epoch 30/30\n",
      "31/31 [==============================] - 159s 5s/step - loss: 0.0092 - accuracy: 0.9970 - val_loss: 0.2460 - val_accuracy: 0.9597\n"
     ]
    },
    {
     "data": {
      "text/plain": [
       "<tensorflow.python.keras.callbacks.History at 0x19648ded508>"
      ]
     },
     "execution_count": 12,
     "metadata": {},
     "output_type": "execute_result"
    }
   ],
   "source": [
    "model.fit(train_data,train_target, batch_size = 32, epochs = 30,validation_split=0.2)"
   ]
  },
  {
   "cell_type": "code",
   "execution_count": 13,
   "metadata": {},
   "outputs": [],
   "source": [
    "pred=model.predict(test_data)"
   ]
  },
  {
   "cell_type": "code",
   "execution_count": 18,
   "metadata": {},
   "outputs": [
    {
     "name": "stdout",
     "output_type": "stream",
     "text": [
      "5/5 [==============================] - 2s 439ms/step - loss: 0.1966 - accuracy: 0.9783\n",
      "[0.196571946144104, 0.97826087474823]\n"
     ]
    }
   ],
   "source": [
    "print(model.evaluate(test_data,test_target))"
   ]
  },
  {
   "cell_type": "code",
   "execution_count": 19,
   "metadata": {},
   "outputs": [
    {
     "name": "stdout",
     "output_type": "stream",
     "text": [
      "WARNING:tensorflow:From C:\\Users\\anudeep\\anaconda3\\lib\\site-packages\\tensorflow\\python\\ops\\resource_variable_ops.py:1817: calling BaseResourceVariable.__init__ (from tensorflow.python.ops.resource_variable_ops) with constraint is deprecated and will be removed in a future version.\n",
      "Instructions for updating:\n",
      "If using Keras pass *_constraint arguments to layers.\n",
      "INFO:tensorflow:Assets written to: face_mask_detection.model\\assets\n"
     ]
    }
   ],
   "source": [
    "model.save('face_mask_detection.model')"
   ]
  },
  {
   "cell_type": "code",
   "execution_count": null,
   "metadata": {},
   "outputs": [],
   "source": []
  }
 ],
 "metadata": {
  "kernelspec": {
   "display_name": "Python 3",
   "language": "python",
   "name": "python3"
  },
  "language_info": {
   "codemirror_mode": {
    "name": "ipython",
    "version": 3
   },
   "file_extension": ".py",
   "mimetype": "text/x-python",
   "name": "python",
   "nbconvert_exporter": "python",
   "pygments_lexer": "ipython3",
   "version": "3.7.6"
  }
 },
 "nbformat": 4,
 "nbformat_minor": 4
}
